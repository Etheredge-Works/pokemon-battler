{
 "cells": [
  {
   "cell_type": "code",
   "execution_count": 4,
   "source": [
    "from poke_env.player.player import Player\n",
    "from poke_env.player.env_player import EnvPlayer"
   ],
   "outputs": [],
   "metadata": {}
  },
  {
   "cell_type": "code",
   "execution_count": null,
   "source": [],
   "outputs": [],
   "metadata": {}
  }
 ],
 "metadata": {
  "orig_nbformat": 4,
  "language_info": {
   "name": "python",
   "version": "3.8.11",
   "mimetype": "text/x-python",
   "codemirror_mode": {
    "name": "ipython",
    "version": 3
   },
   "pygments_lexer": "ipython3",
   "nbconvert_exporter": "python",
   "file_extension": ".py"
  },
  "kernelspec": {
   "name": "python3",
   "display_name": "Python 3.8.11 64-bit ('battler': conda)"
  },
  "interpreter": {
   "hash": "475cc37f5724e0d2e1ebe6a71120a04ac244a177b4bd3d3800140dd7a9748fd0"
  }
 },
 "nbformat": 4,
 "nbformat_minor": 2
}